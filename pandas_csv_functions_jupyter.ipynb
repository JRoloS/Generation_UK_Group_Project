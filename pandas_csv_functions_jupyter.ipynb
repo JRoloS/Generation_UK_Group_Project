{
 "cells": [
  {
   "cell_type": "code",
   "execution_count": 2,
   "metadata": {},
   "outputs": [],
   "source": [
    "# Imports and Variables used for testing\n",
    "import pandas as pd\n",
    "\n",
    "csv = \"chesterfield_25-08-2021_09-00-00.csv\"   #Csv file\n",
    "df = \"\"                                        #Global for the DataFrame\n",
    "count = \"\"                                     #Global for count functions\n",
    "column = \"payment_type\"                        #Argument for functions\n",
    "value = \"CARD\"                                 #Argument for functions\n",
    "\n"
   ]
  },
  {
   "cell_type": "code",
   "execution_count": 4,
   "metadata": {},
   "outputs": [],
   "source": [
    "# Removes Full Name and Card Number columns\n",
    "def extract_sanitise_csv(csv):\n",
    "    try:\n",
    "        columns = ['date_time', 'Location', 'full_name', 'order', 'amount', 'payment_type', 'card_number']\n",
    "        global df\n",
    "        df = pd.read_csv(csv, header=None, names=columns)\n",
    "        df = df.drop(columns=['full_name', 'card_number'])\n",
    "    except FileNotFoundError as fnfe:\n",
    "        print(f'File not found: {fnfe}')\n",
    "\n",
    "    return df\n",
    "\n"
   ]
  },
  {
   "cell_type": "code",
   "execution_count": null,
   "metadata": {},
   "outputs": [],
   "source": [
    "# Test previous function\n",
    "extract_sanitise_csv(csv)\n",
    "print(df.head(10)) "
   ]
  },
  {
   "cell_type": "code",
   "execution_count": null,
   "metadata": {},
   "outputs": [],
   "source": [
    "# Returns the row in which a column contains a given value\n",
    "def filter_by_column_value(csv,column,value):\n",
    "\n",
    "    try:\n",
    "        columns = ['date_time', 'Location', 'full_name', 'order', 'amount', 'payment_type', 'card_number']\n",
    "        global df  # df as Global to be able to print it outside the function\n",
    "        df = pd.read_csv(csv, header=None, names=columns)\n",
    "        global contain_values\n",
    "        contain_values = df[df[column].str.contains(value)]\n",
    "    except FileNotFoundError as fnfe:\n",
    "        print(f'File not found: {fnfe}')\n",
    "\n",
    "    return contain_values"
   ]
  },
  {
   "cell_type": "code",
   "execution_count": null,
   "metadata": {},
   "outputs": [],
   "source": [
    "# Test previous function\n",
    "filter_by_column_value(csv,column,value)\n",
    "print (contain_values)"
   ]
  },
  {
   "cell_type": "code",
   "execution_count": 6,
   "metadata": {},
   "outputs": [],
   "source": [
    "# Returns a count of the different values contained in a given column\n",
    "def count_number_of_different_values(csv,column):\n",
    "\n",
    "    try:\n",
    "        columns = ['date_time', 'Location', 'full_name', 'order', 'amount', 'payment_type', 'card_number']\n",
    "        global df  # df as Global to be able to print it outside the function\n",
    "        df = pd.read_csv(csv, header=None, names=columns)\n",
    "        global count\n",
    "        count = df[column].value_counts(ascending=True)\n",
    "    except FileNotFoundError as fnfe:\n",
    "         print(f'File not found: {fnfe}')\n"
   ]
  },
  {
   "cell_type": "code",
   "execution_count": null,
   "metadata": {},
   "outputs": [],
   "source": [
    "# Test previous function\n",
    "count_number_of_different_values(csv,column)\n",
    "print(str(count))"
   ]
  },
  {
   "cell_type": "code",
   "execution_count": 8,
   "metadata": {},
   "outputs": [],
   "source": [
    "# Counts the number of times a value is repeated on a given column\n",
    "def count_number_of_times_a_value_is_repeated(csv,column,value):\n",
    "\n",
    "    try:\n",
    "        columns = ['date_time', 'Location', 'full_name', 'order', 'amount', 'payment_type', 'card_number']\n",
    "        global df  # df as Global to be able to print it outside the function\n",
    "        df = pd.read_csv(csv, header=None, names=columns)\n",
    "        global count\n",
    "        count = df[column].value_counts()[value]\n",
    "    except FileNotFoundError as fnfe:\n",
    "         print(f'File not found: {fnfe}')\n"
   ]
  },
  {
   "cell_type": "code",
   "execution_count": 9,
   "metadata": {},
   "outputs": [
    {
     "name": "stdout",
     "output_type": "stream",
     "text": [
      "the value: CARD was found 183 times.\n"
     ]
    }
   ],
   "source": [
    "# Test previous function\n",
    "count_number_of_times_a_value_is_repeated(csv,column,value)\n",
    "print(\"the value: \" + value + \" was found \" + str(count) + \" times.\")"
   ]
  }
 ],
 "metadata": {
  "kernelspec": {
   "display_name": "Python 3",
   "language": "python",
   "name": "python3"
  },
  "language_info": {
   "codemirror_mode": {
    "name": "ipython",
    "version": 3
   },
   "file_extension": ".py",
   "mimetype": "text/x-python",
   "name": "python",
   "nbconvert_exporter": "python",
   "pygments_lexer": "ipython3",
   "version": "3.11.2"
  },
  "orig_nbformat": 4
 },
 "nbformat": 4,
 "nbformat_minor": 2
}
