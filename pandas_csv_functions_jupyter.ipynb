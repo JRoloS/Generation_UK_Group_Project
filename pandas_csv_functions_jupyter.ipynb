{
 "cells": [
  {
   "cell_type": "code",
   "execution_count": 55,
   "metadata": {},
   "outputs": [],
   "source": [
    "# Imports and Variables used for testing\n",
    "import pandas as pd\n",
    "from IPython.display import display                                                                 # This creates the tables\n",
    "import os                                                                                           # For OS related paths \n",
    "\n",
    "csv = \"chesterfield_25-08-2021_09-00-00.csv\"                                                        # Csv file\n",
    "df = \"\"                                                                                             # Global for the DataFrame\n",
    "count = \"\"                                                                                          # Global for count functions\n",
    "column = \"payment_type\"                                                                             # Argument for functions\n",
    "value = \"CARD\"                                                                                      # Argument for functions\n",
    "columns = ['date_time', 'Location', 'full_name', 'order', 'amount', 'payment_type', 'card_number']  # Headers for the Chesterfield csv file\n",
    "sanitise_these_columns = ['full_name', 'card_number']                                               # Columns list to be sanitised"
   ]
  },
  {
   "cell_type": "code",
   "execution_count": 56,
   "metadata": {},
   "outputs": [],
   "source": [
    "# Remove given Columns\n",
    "def extract_sanitise_csv(csv,sanitise_these_columns):\n",
    "    try:\n",
    "        global df # as Global to be able to print it outside the function\n",
    "        df = pd.read_csv(csv, header=None, names=columns)\n",
    "        df = df.drop(columns=sanitise_these_columns)\n",
    "    except FileNotFoundError as fnfe:\n",
    "        print(f'File not found: {fnfe}')\n",
    "\n",
    "    return df"
   ]
  },
  {
   "cell_type": "code",
   "execution_count": 57,
   "metadata": {},
   "outputs": [
    {
     "data": {
      "text/html": [
       "<div>\n",
       "<style scoped>\n",
       "    .dataframe tbody tr th:only-of-type {\n",
       "        vertical-align: middle;\n",
       "    }\n",
       "\n",
       "    .dataframe tbody tr th {\n",
       "        vertical-align: top;\n",
       "    }\n",
       "\n",
       "    .dataframe thead th {\n",
       "        text-align: right;\n",
       "    }\n",
       "</style>\n",
       "<table border=\"1\" class=\"dataframe\">\n",
       "  <thead>\n",
       "    <tr style=\"text-align: right;\">\n",
       "      <th></th>\n",
       "      <th>date_time</th>\n",
       "      <th>Location</th>\n",
       "      <th>order</th>\n",
       "      <th>amount</th>\n",
       "      <th>payment_type</th>\n",
       "    </tr>\n",
       "  </thead>\n",
       "  <tbody>\n",
       "    <tr>\n",
       "      <th>0</th>\n",
       "      <td>25/08/2021 09:00</td>\n",
       "      <td>Chesterfield</td>\n",
       "      <td>Regular Flavoured iced latte - Hazelnut - 2.75...</td>\n",
       "      <td>5.2</td>\n",
       "      <td>CARD</td>\n",
       "    </tr>\n",
       "    <tr>\n",
       "      <th>1</th>\n",
       "      <td>25/08/2021 09:02</td>\n",
       "      <td>Chesterfield</td>\n",
       "      <td>Large Flavoured iced latte - Caramel - 3.25, R...</td>\n",
       "      <td>17.3</td>\n",
       "      <td>CARD</td>\n",
       "    </tr>\n",
       "    <tr>\n",
       "      <th>2</th>\n",
       "      <td>25/08/2021 09:04</td>\n",
       "      <td>Chesterfield</td>\n",
       "      <td>Large Flat white - 2.45, Regular Latte - 2.15</td>\n",
       "      <td>4.6</td>\n",
       "      <td>CARD</td>\n",
       "    </tr>\n",
       "    <tr>\n",
       "      <th>3</th>\n",
       "      <td>25/08/2021 09:06</td>\n",
       "      <td>Chesterfield</td>\n",
       "      <td>Regular Flavoured latte - Hazelnut - 2.55, Lar...</td>\n",
       "      <td>5.0</td>\n",
       "      <td>CARD</td>\n",
       "    </tr>\n",
       "    <tr>\n",
       "      <th>4</th>\n",
       "      <td>25/08/2021 09:08</td>\n",
       "      <td>Chesterfield</td>\n",
       "      <td>Regular Latte - 2.15, Large Latte - 2.45</td>\n",
       "      <td>4.6</td>\n",
       "      <td>CASH</td>\n",
       "    </tr>\n",
       "  </tbody>\n",
       "</table>\n",
       "</div>"
      ],
      "text/plain": [
       "          date_time      Location   \n",
       "0  25/08/2021 09:00  Chesterfield  \\\n",
       "1  25/08/2021 09:02  Chesterfield   \n",
       "2  25/08/2021 09:04  Chesterfield   \n",
       "3  25/08/2021 09:06  Chesterfield   \n",
       "4  25/08/2021 09:08  Chesterfield   \n",
       "\n",
       "                                               order  amount payment_type  \n",
       "0  Regular Flavoured iced latte - Hazelnut - 2.75...     5.2         CARD  \n",
       "1  Large Flavoured iced latte - Caramel - 3.25, R...    17.3         CARD  \n",
       "2      Large Flat white - 2.45, Regular Latte - 2.15     4.6         CARD  \n",
       "3  Regular Flavoured latte - Hazelnut - 2.55, Lar...     5.0         CARD  \n",
       "4           Regular Latte - 2.15, Large Latte - 2.45     4.6         CASH  "
      ]
     },
     "metadata": {},
     "output_type": "display_data"
    }
   ],
   "source": [
    "# Test for the previous function\n",
    "extract_sanitise_csv(csv,sanitise_these_columns)\n",
    "display(df.head(5)) "
   ]
  },
  {
   "cell_type": "code",
   "execution_count": null,
   "metadata": {},
   "outputs": [],
   "source": [
    "# Returns the row in which a column contains a given value\n",
    "def filter_by_column_value(csv,column,value):\n",
    "    try:\n",
    "        df = pd.read_csv(csv, header=None, names=columns)\n",
    "        global contain_values # as Global to be able to print it outside the function\n",
    "        contain_values = df[df[column].str.contains(value)]\n",
    "    except FileNotFoundError as fnfe:\n",
    "        print(f'File not found: {fnfe}')\n",
    "\n",
    "    return contain_values"
   ]
  },
  {
   "cell_type": "code",
   "execution_count": null,
   "metadata": {},
   "outputs": [],
   "source": [
    "# Test for the previous function\n",
    "filter_by_column_value(csv,column,value)\n",
    "display(contain_values.head(10))"
   ]
  },
  {
   "cell_type": "code",
   "execution_count": null,
   "metadata": {},
   "outputs": [],
   "source": [
    "# Returns the count of the different values contained in a given column\n",
    "def count_number_of_different_values(csv,column):\n",
    "    try:\n",
    "        df = pd.read_csv(csv, header=None, names=columns)\n",
    "        global count  # as Global to be able to print it outside the function\n",
    "        count = df[column].value_counts(ascending=True)\n",
    "    except FileNotFoundError as fnfe:\n",
    "         print(f'File not found: {fnfe}')\n",
    "    return count"
   ]
  },
  {
   "cell_type": "code",
   "execution_count": null,
   "metadata": {},
   "outputs": [],
   "source": [
    "# Test for the previous function\n",
    "count_number_of_different_values(csv,column)\n",
    "print(str(count))"
   ]
  },
  {
   "cell_type": "code",
   "execution_count": null,
   "metadata": {},
   "outputs": [],
   "source": [
    "# Counts the number of times a value is repeated on a given column\n",
    "def count_number_of_times_a_value_is_repeated(csv,column,value):\n",
    "    try:\n",
    "        df = pd.read_csv(csv, header=None, names=columns)\n",
    "        global count # as Global to be able to print it outside the function\n",
    "        count = df[column].value_counts()[value]\n",
    "    except FileNotFoundError as fnfe:\n",
    "         print(f'File not found: {fnfe}')\n",
    "    return count"
   ]
  },
  {
   "cell_type": "code",
   "execution_count": null,
   "metadata": {},
   "outputs": [],
   "source": [
    "# Test for the previous function\n",
    "count_number_of_times_a_value_is_repeated(csv,column,value)\n",
    "print(\"the value: \" + value + \" was found \" + str(count) + \" times.\")"
   ]
  },
  {
   "cell_type": "code",
   "execution_count": 60,
   "metadata": {},
   "outputs": [],
   "source": [
    "# Saves Data frame to file as CSV\n",
    "\n",
    "def save_df_to_csv(path,newfile):\n",
    "    try:\n",
    "        os.makedirs(path, exist_ok=True)  \n",
    "        df.to_csv(path + newfile)\n",
    "\n",
    "    except:\n",
    "        print(f'Saving operation could not be completed')\n"
   ]
  },
  {
   "cell_type": "code",
   "execution_count": 61,
   "metadata": {},
   "outputs": [],
   "source": [
    "# Test for the previous function\n",
    "path = \"results/\" # to add folder/subfolder/ if needed\n",
    "newfile = \"newfile.csv\"\n",
    "\n",
    "save_df_to_csv(path,newfile)"
   ]
  },
  {
   "cell_type": "code",
   "execution_count": 68,
   "metadata": {},
   "outputs": [],
   "source": [
    "# Saves Data frame to file as JSON\n",
    "\n",
    "def save_df_to_json(path,newfile):\n",
    "    try:\n",
    "        with open(path + newfile, 'w') as f:\n",
    "            f.write(df.to_json(orient='records', lines=True))\n",
    "\n",
    "    except:\n",
    "        print(f'Saving operation could not be completed')\n",
    "    \n"
   ]
  },
  {
   "cell_type": "code",
   "execution_count": 69,
   "metadata": {},
   "outputs": [],
   "source": [
    "# Test for the previous function\n",
    "path = \"results/\" # to add folder/subfolder/ if needed\n",
    "newfile = \"newfile.json\"\n",
    "\n",
    "save_df_to_json(path,newfile)"
   ]
  }
 ],
 "metadata": {
  "kernelspec": {
   "display_name": "Python 3",
   "language": "python",
   "name": "python3"
  },
  "language_info": {
   "codemirror_mode": {
    "name": "ipython",
    "version": 3
   },
   "file_extension": ".py",
   "mimetype": "text/x-python",
   "name": "python",
   "nbconvert_exporter": "python",
   "pygments_lexer": "ipython3",
   "version": "3.11.2"
  },
  "orig_nbformat": 4
 },
 "nbformat": 4,
 "nbformat_minor": 2
}
