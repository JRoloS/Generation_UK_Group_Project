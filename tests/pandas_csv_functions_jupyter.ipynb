{
 "cells": [
  {
   "cell_type": "code",
   "execution_count": 4,
   "metadata": {},
   "outputs": [],
   "source": [
    "# Imports and Variables used for testing\n",
    "import pandas as pd                                                                                 # This creates the tables\n",
    "import os                                                                                           # For OS related paths \n",
    "\n",
    "# Variable List (with their default value [Used in Testing])\n",
    "csv = \"chesterfield_25-08-2021_09-00-00.csv\"                                                        # Csv file\n",
    "df = \"\"                                                                                             # Global for the DataFrame\n",
    "count = \"\"                                                                                          # Global for count functions\n",
    "column = \"payment_type\"                                                                             # Argument for functions\n",
    "value = \"CARD\"                                                                                      # Argument for functions\n",
    "columns = ['date_time', 'Location', 'full_name', 'order', 'amount', 'payment_type', 'card_number']  # Headers for the Chesterfield csv file\n",
    "sanitise_these_columns = ['full_name', 'card_number']                                               # Columns list to be sanitised\n",
    "path = \"results/\"                                                                                   # to add folder/subfolder/ if needed\n",
    "newfile = \"newfile.csv\"                                                                             # File to be created"
   ]
  },
  {
   "cell_type": "code",
   "execution_count": 5,
   "metadata": {},
   "outputs": [],
   "source": [
    "# Remove given Columns\n",
    "def extract_sanitise_csv(csv,sanitise_these_columns):\n",
    "    try:\n",
    "        global df # as Global to be able to print it outside the function\n",
    "        df = pd.read_csv(csv, header=None, names=columns)\n",
    "        df = df.drop(columns=sanitise_these_columns)\n",
    "    except FileNotFoundError as fnfe:\n",
    "        print(f'File not found: {fnfe}')\n",
    "\n",
    "    return df"
   ]
  },
  {
   "cell_type": "code",
   "execution_count": null,
   "metadata": {},
   "outputs": [],
   "source": [
    "# Test for the previous function\n",
    "\n",
    "csv = \"chesterfield_25-08-2021_09-00-00.csv\" \n",
    "sanitise_these_columns = ['full_name', 'card_number']\n",
    "\n",
    "extract_sanitise_csv(csv,sanitise_these_columns)\n",
    "df.head(5)"
   ]
  },
  {
   "cell_type": "code",
   "execution_count": 12,
   "metadata": {},
   "outputs": [],
   "source": [
    "# Returns the row in which a column contains a given value\n",
    "def filter_by_column_value(csv,column,value):\n",
    "    try:\n",
    "        df = pd.read_csv(csv, header=None, names=columns)\n",
    "        global contain_values # as Global to be able to print it outside the function\n",
    "        contain_values = df[df[column].str.contains(value)]\n",
    "    except FileNotFoundError as fnfe:\n",
    "        print(f'File not found: {fnfe}')\n",
    "\n",
    "    return contain_values"
   ]
  },
  {
   "cell_type": "code",
   "execution_count": null,
   "metadata": {},
   "outputs": [],
   "source": [
    "# Test for the previous function\n",
    "csv = \"chesterfield_25-08-2021_09-00-00.csv\"\n",
    "columns = ['date_time', 'Location', 'full_name', 'order', 'amount', 'payment_type', 'card_number']\n",
    "value = \"CARD\"\n",
    "\n",
    "filter_by_column_value(csv,column,value)\n",
    "contain_values.head(10)"
   ]
  },
  {
   "cell_type": "code",
   "execution_count": 9,
   "metadata": {},
   "outputs": [],
   "source": [
    "# Returns the count of the different values contained in a given column\n",
    "def count_number_of_different_values(csv,column):\n",
    "    try:\n",
    "        df = pd.read_csv(csv, header=None, names=columns)\n",
    "        global count  # as Global to be able to print it outside the function\n",
    "        count = df[column].value_counts(ascending=True)\n",
    "    except FileNotFoundError as fnfe:\n",
    "         print(f'File not found: {fnfe}')\n",
    "    return count"
   ]
  },
  {
   "cell_type": "code",
   "execution_count": 10,
   "metadata": {},
   "outputs": [
    {
     "name": "stdout",
     "output_type": "stream",
     "text": [
      "payment_type\n",
      "CASH     85\n",
      "CARD    183\n",
      "Name: count, dtype: int64\n"
     ]
    }
   ],
   "source": [
    "# Test for the previous function\n",
    "csv = \"chesterfield_25-08-2021_09-00-00.csv\"\n",
    "column = \"payment_type\" \n",
    "\n",
    "count_number_of_different_values(csv,column)\n",
    "print(str(count))"
   ]
  },
  {
   "cell_type": "code",
   "execution_count": 11,
   "metadata": {},
   "outputs": [],
   "source": [
    "# Counts the number of times a value is repeated on a given column\n",
    "def count_number_of_times_a_value_is_repeated(csv,column,value):\n",
    "    try:\n",
    "        df = pd.read_csv(csv, header=None, names=columns)\n",
    "        global count # as Global to be able to print it outside the function\n",
    "        count = df[column].value_counts()[value]\n",
    "    except FileNotFoundError as fnfe:\n",
    "         print(f'File not found: {fnfe}')\n",
    "    return count"
   ]
  },
  {
   "cell_type": "code",
   "execution_count": 31,
   "metadata": {},
   "outputs": [
    {
     "name": "stdout",
     "output_type": "stream",
     "text": [
      "the value: CARD was found 183 times.\n"
     ]
    }
   ],
   "source": [
    "# Test for the previous function\n",
    "csv = \"chesterfield_25-08-2021_09-00-00.csv\"\n",
    "column = \"payment_type\"\n",
    "value = \"CARD\" \n",
    "\n",
    "count_number_of_times_a_value_is_repeated(csv,column,value)\n",
    "print(\"the value: \" + value + \" was found \" + str(count) + \" times.\")"
   ]
  },
  {
   "cell_type": "code",
   "execution_count": 32,
   "metadata": {},
   "outputs": [],
   "source": [
    "# Saves Data frame to file as CSV\n",
    "\n",
    "def save_df_to_csv(path,newfile):\n",
    "    try:\n",
    "        os.makedirs(path, exist_ok=True)  \n",
    "        df.to_csv(path + newfile)\n",
    "\n",
    "    except:\n",
    "        print(f'Saving operation could not be completed')\n"
   ]
  },
  {
   "cell_type": "code",
   "execution_count": 33,
   "metadata": {},
   "outputs": [],
   "source": [
    "# Test for the previous function\n",
    "path = \"results/\" # to add folder/subfolder/ if needed\n",
    "newfile = \"newfile.csv\"\n",
    "\n",
    "save_df_to_csv(path,newfile)"
   ]
  },
  {
   "cell_type": "code",
   "execution_count": 1,
   "metadata": {},
   "outputs": [],
   "source": [
    "# Saves Data frame to file as JSON\n",
    "\n",
    "def save_df_to_json(path,newfile):\n",
    "    try:\n",
    "        with open(path + newfile, 'w') as f:\n",
    "            f.write(df.to_json(orient='records', lines=True))\n",
    "\n",
    "    except:\n",
    "        print(f'Saving operation could not be completed')\n",
    "    \n"
   ]
  },
  {
   "cell_type": "code",
   "execution_count": null,
   "metadata": {},
   "outputs": [],
   "source": [
    "# Test for the previous function\n",
    "path = \"results/\" # to add folder/subfolder/ if needed\n",
    "newfile = \"newfile.json\"\n",
    "\n",
    "save_df_to_json(path,newfile)"
   ]
  }
 ],
 "metadata": {
  "kernelspec": {
   "display_name": "Python 3",
   "language": "python",
   "name": "python3"
  },
  "language_info": {
   "codemirror_mode": {
    "name": "ipython",
    "version": 3
   },
   "file_extension": ".py",
   "mimetype": "text/x-python",
   "name": "python",
   "nbconvert_exporter": "python",
   "pygments_lexer": "ipython3",
   "version": "3.11.2"
  },
  "orig_nbformat": 4
 },
 "nbformat": 4,
 "nbformat_minor": 2
}
