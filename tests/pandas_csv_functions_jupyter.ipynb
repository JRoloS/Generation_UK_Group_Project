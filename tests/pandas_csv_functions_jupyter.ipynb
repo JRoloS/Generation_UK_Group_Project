{
 "cells": [
  {
   "cell_type": "code",
   "execution_count": null,
   "metadata": {},
   "outputs": [],
   "source": [
    "# Imports and Variables used for testing\n",
    "import pandas as pd                                                                                 # Loads Pandas package \n",
    "import os                                                                                           # For OS related paths \n",
    "\n",
    "# Variable List (with their default value [Used in Testing])\n",
    "raw_data_file = \"chesterfield_25-08-2021_09-00-00.csv\"                                              # Csv filename on the raw_data subfolder\n",
    "csv = \"\"                                                                                            # filepath to be read by functions, used after joint with raw_data_file NOTE: csv variable could be an url if needed\n",
    "df = \"\"                                                                                             # Global for the DataFrame\n",
    "count = \"\"                                                                                          # Global for count functions\n",
    "column = \"payment_type\"                                                                             # Argument for functions\n",
    "value = \"CARD\"                                                                                      # Argument for functions\n",
    "columns = ['date_time', 'Location', 'full_name', 'order', 'amount', 'payment_type', 'card_number']  # Headers for the orders csv files\n",
    "sanitise_these_columns = ['full_name', 'card_number']                                               # Columns list to be sanitised\n",
    "path = \"results/\"                                                                                   # to add folder/subfolder/ if needed\n",
    "newfile = \"newfile.csv\"                                                                             # Filename to be created by the Create CSV/JSON function"
   ]
  },
  {
   "cell_type": "code",
   "execution_count": null,
   "metadata": {},
   "outputs": [],
   "source": [
    "#FUNCTIONS INDEX\n",
    "#\n",
    "# 1. absolute_path_for_raw_data\n",
    "#               Takes: raw_data_file (a variable for the name of the csv file in the raw_data folder) \n",
    "#               Returns: CSV variable containing the Absolute Path to the raw_data subfolder + filename]\n",
    "#  \n",
    "# 2. extract_sanitise_csv\n",
    "#               Takes: csv (absolute path variable), columns (a List with the headers for the csv file), sanitise_these_columns (List of Columns to be Sanitised)\n",
    "#               Returns Sanitised Dataframe as DF\n",
    "#\n",
    "# 3. filter_by_column_value\n",
    "#               Takes: csv (absolute path variable) column (the column to check) value (the value to check in the column)\n",
    "#               Returns: contain_values variable which is a new DF which includes the rows in which a column contains the given value\n",
    "#\n",
    "# 4. count_number_of_different_values\n",
    "#               Takes: csv (absolute path variable) column (the column to check)\n",
    "#               Returns: A count of the different values contained in the given column\n",
    "#\n",
    "# 5. count_number_of_times_a_value_is_repeated\n",
    "#               Takes: csv (absolute path variable) column (the column to check) value (the value to check in the column)\n",
    "#               Returns: A Count of the number of times the given value is repeated on the given column\n",
    "#\n",
    "# 6. save_df_to_csv\n",
    "#               Takes: path (name of folder) newfile (name and extension of the file to be created)\n",
    "#               Returns: DF variable contents saved a CSV file under the given path folder\n",
    "#\n",
    "# 7. save_df_to_json\n",
    "#               Takes: path (name of folder) newfile (name and extension of the file to be created)\n",
    "#               Returns: DF variable contents saved a JSON file under the given path folder"
   ]
  },
  {
   "cell_type": "code",
   "execution_count": null,
   "metadata": {},
   "outputs": [],
   "source": [
    "# 1. - Absolute path for csv files in the raw_data folder   [takes variable filename.... returns path to raw_data subfolder folder plus filename]\n",
    "# takes the file name and returns \n",
    "def absolute_path_for_raw_data(raw_data_file):\n",
    "    path = os.path.abspath(\"../raw_data\")\n",
    "    global csv\n",
    "    csv = path + \"\\\\\" + raw_data_file\n",
    "    return csv"
   ]
  },
  {
   "cell_type": "code",
   "execution_count": null,
   "metadata": {},
   "outputs": [],
   "source": [
    "# 2. Remove given Columns\n",
    "def extract_sanitise_csv(csv,sanitise_these_columns):\n",
    "    try:\n",
    "        global df # as Global to be able to print it outside the function\n",
    "        df = pd.read_csv(csv, header=None, names=columns)\n",
    "        df = df.drop(columns=sanitise_these_columns)\n",
    "    except FileNotFoundError as fnfe:\n",
    "        print(f'File not found: {fnfe}')\n",
    "\n",
    "    return df"
   ]
  },
  {
   "cell_type": "code",
   "execution_count": null,
   "metadata": {},
   "outputs": [],
   "source": [
    "# Test EXTRACT SANITISE CSV Function\n",
    "\n",
    "# Current Files Chesterfield or Leeds (comment one out)\n",
    "# raw_data_file = \"chesterfield_25-08-2021_09-00-00.csv\"\n",
    "raw_data_file = \"leeds_01-01-2020_09-00-00.csv\"\n",
    "\n",
    "absolute_path_for_raw_data(raw_data_file)  # returns csv variable with the absolute path\n",
    " \n",
    "sanitise_these_columns = ['full_name', 'card_number']\n",
    "\n",
    "extract_sanitise_csv(csv,sanitise_these_columns)\n",
    "df.head(5)"
   ]
  },
  {
   "cell_type": "code",
   "execution_count": null,
   "metadata": {},
   "outputs": [],
   "source": [
    "# 3. Returns the rows in which a column contains a given value\n",
    "def filter_by_column_value(csv,column,value):\n",
    "    try:\n",
    "        # df = pd.read_csv(csv, header=None, names=columns) #Uncomment if you want to use the Unsanatised version of the DF\n",
    "        global contain_values # as Global to be able to print it outside the function\n",
    "        contain_values = df[df[column].str.contains(value)]\n",
    "    except FileNotFoundError as fnfe:\n",
    "        print(f'File not found: {fnfe}')\n",
    "\n",
    "    return contain_values"
   ]
  },
  {
   "cell_type": "code",
   "execution_count": null,
   "metadata": {},
   "outputs": [],
   "source": [
    "# Test FILTER BY COLUMN VALUE function\n",
    "\n",
    "# Current Files Chesterfield or Leeds (comment one out)\n",
    "# raw_data_file = \"chesterfield_25-08-2021_09-00-00.csv\"\n",
    "raw_data_file = \"leeds_01-01-2020_09-00-00.csv\"\n",
    "\n",
    "columns = ['date_time', 'Location', 'full_name', 'order', 'amount', 'payment_type', 'card_number']\n",
    "value = \"CARD\"\n",
    "\n",
    "filter_by_column_value(csv,column,value)\n",
    "contain_values.head(10)"
   ]
  },
  {
   "cell_type": "code",
   "execution_count": null,
   "metadata": {},
   "outputs": [],
   "source": [
    "# 4. Returns the count of the different values contained in a given column\n",
    "def count_number_of_different_values(csv,column):\n",
    "    try:\n",
    "        # df = pd.read_csv(csv, header=None, names=columns) #Uncomment if you want to use the Unsanatised version of the DF\n",
    "        global count  # as Global to be able to print it outside the function\n",
    "        count = df[column].value_counts(ascending=True)\n",
    "    except FileNotFoundError as fnfe:\n",
    "         print(f'File not found: {fnfe}')\n",
    "    return count"
   ]
  },
  {
   "cell_type": "code",
   "execution_count": null,
   "metadata": {},
   "outputs": [],
   "source": [
    "# Test COUNT NUMBER OF DIFFERENT VALUES function\n",
    "\n",
    "# Current Files Chesterfield or Leeds (comment one out)\n",
    "# raw_data_file = \"chesterfield_25-08-2021_09-00-00.csv\"\n",
    "raw_data_file = \"leeds_01-01-2020_09-00-00.csv\"\n",
    "\n",
    "absolute_path_for_raw_data(raw_data_file) # returns csv variable with the absolut path\n",
    "\n",
    "column = \"payment_type\" \n",
    "\n",
    "count_number_of_different_values(csv,column)\n",
    "print(str(count))"
   ]
  },
  {
   "cell_type": "code",
   "execution_count": null,
   "metadata": {},
   "outputs": [],
   "source": [
    "# 5. Counts the number of times a value is repeated on a given column\n",
    "def count_number_of_times_a_value_is_repeated(csv,column,value):\n",
    "    try:\n",
    "        df = pd.read_csv(csv, header=None, names=columns)\n",
    "        global count # as Global to be able to print it outside the function\n",
    "        count = df[column].value_counts()[value]\n",
    "    except FileNotFoundError as fnfe:\n",
    "         print(f'File not found: {fnfe}')\n",
    "    return count"
   ]
  },
  {
   "cell_type": "code",
   "execution_count": null,
   "metadata": {},
   "outputs": [],
   "source": [
    "# Test COUNT NUMBER OF TIMES A VALUE IS REPEATED function\n",
    "\n",
    "# Current Files Chesterfield or Leeds (comment one out)\n",
    "# raw_data_file = \"chesterfield_25-08-2021_09-00-00.csv\"\n",
    "raw_data_file = \"leeds_01-01-2020_09-00-00.csv\"\n",
    "\n",
    "absolute_path_for_raw_data(raw_data_file) # returns csv variable with the absolut path\n",
    "\n",
    "column = \"payment_type\"\n",
    "value = \"CARD\" \n",
    "\n",
    "count_number_of_times_a_value_is_repeated(csv,column,value)\n",
    "print(\"the value: \" + value + \" was found \" + str(count) + \" times.\")"
   ]
  },
  {
   "cell_type": "code",
   "execution_count": null,
   "metadata": {},
   "outputs": [],
   "source": [
    "# 6. Saves Data frame to file as CSV\n",
    "\n",
    "def save_df_to_csv(path,newfile):\n",
    "    try:\n",
    "        os.makedirs(path, exist_ok=True)  \n",
    "        df.to_csv(path + newfile, header=False)\n",
    "\n",
    "    except:\n",
    "        print(f'Saving operation could not be completed')\n"
   ]
  },
  {
   "cell_type": "code",
   "execution_count": null,
   "metadata": {},
   "outputs": [],
   "source": [
    "# Test SAVE DATA FRAME TO CSV FILE function\n",
    "path = \"results/\" # to add folder/subfolder/ if needed\n",
    "newfile = \"newfile.csv\"\n",
    "\n",
    "save_df_to_csv(path,newfile)"
   ]
  },
  {
   "cell_type": "code",
   "execution_count": null,
   "metadata": {},
   "outputs": [],
   "source": [
    "# Saves Data frame to file as JSON\n",
    "\n",
    "def save_df_to_json(path,newfile):\n",
    "    try:\n",
    "        with open(path + newfile, 'w') as f:\n",
    "            f.write(df.to_json(orient='records', lines=True))\n",
    "\n",
    "    except:\n",
    "        print(f'Saving operation could not be completed')\n",
    "    \n"
   ]
  },
  {
   "cell_type": "code",
   "execution_count": null,
   "metadata": {},
   "outputs": [],
   "source": [
    "# Test SAVE DATA FRAME TO JSON FILE function\n",
    "path = \"results/\" # to add folder/subfolder/ if needed\n",
    "newfile = \"newfile.json\"\n",
    "\n",
    "save_df_to_json(path,newfile)"
   ]
  }
 ],
 "metadata": {
  "kernelspec": {
   "display_name": "Python 3",
   "language": "python",
   "name": "python3"
  },
  "language_info": {
   "codemirror_mode": {
    "name": "ipython",
    "version": 3
   },
   "file_extension": ".py",
   "mimetype": "text/x-python",
   "name": "python",
   "nbconvert_exporter": "python",
   "pygments_lexer": "ipython3",
   "version": "3.11.2"
  },
  "orig_nbformat": 4
 },
 "nbformat": 4,
 "nbformat_minor": 2
}
